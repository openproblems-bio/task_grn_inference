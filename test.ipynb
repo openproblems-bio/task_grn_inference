{
 "cells": [
  {
   "cell_type": "code",
   "execution_count": 1,
   "metadata": {},
   "outputs": [
    {
     "name": "stderr",
     "output_type": "stream",
     "text": [
      "/home/jnourisa/miniconda3/envs/gimme/lib/python3.10/site-packages/tqdm/auto.py:21: TqdmWarning: IProgress not found. Please update jupyter and ipywidgets. See https://ipywidgets.readthedocs.io/en/stable/user_install.html\n",
      "  from .autonotebook import tqdm as notebook_tqdm\n"
     ]
    }
   ],
   "source": [
    "import anndata as ad\n",
    "import pandas as pd\n",
    "import pybedtools\n",
    "import genomepy\n",
    "import os \n",
    "import numpy as np\n"
   ]
  },
  {
   "cell_type": "code",
   "execution_count": 11,
   "metadata": {},
   "outputs": [],
   "source": [
    "# - get the gene locations as bed file\n",
    "\n",
    "rna = ad.read_h5ad('resources/inference_datasets/op_rna.h5ad')\n",
    "\n",
    "var = rna.var.reset_index()\n",
    "var = var.iloc[:, :]\n",
    "var = var[var.interval!='NA']\n",
    "var[['chr','start','end']] = var.interval.str.split(':|-', expand=True)\n",
    "var = var[~var.chr.isin(['GL000009.2', 'GL000194.1', 'GL000195.1', 'GL000218.1', 'GL000219.1', 'KI270711.1',\n",
    "       'KI270721.1', 'KI270734.1'])]\n",
    "\n",
    "var[['chr','start','start', 'location']].to_csv('output/skeleton/gene_locations.bed', index=False, header=False, sep='\\t')"
   ]
  },
  {
   "cell_type": "code",
   "execution_count": 12,
   "metadata": {},
   "outputs": [
    {
     "data": {
      "text/plain": [
       "<BedTool(output/skeleton/tss_with_flanks.bed)>"
      ]
     },
     "execution_count": 12,
     "metadata": {},
     "output_type": "execute_result"
    }
   ],
   "source": [
    "# - get tss flank \n",
    "\n",
    "# Path to the genome FASTA file\n",
    "genome_fasta = os.path.expanduser('~/.local/share/genomes/hg38/hg38.fa')\n",
    "\n",
    "# Example TSS BED file\n",
    "tss_bed_file = 'output/skeleton/gene_locations.bed'\n",
    "\n",
    "# Load the TSS BED file\n",
    "tss_bed = pybedtools.BedTool(tss_bed_file)\n",
    "\n",
    "# Set the flanking size (e.g., 1000 bp upstream and downstream)\n",
    "flank_size = 1000\n",
    "\n",
    "# Get the flanking regions\n",
    "tss_with_flanks = tss_bed.slop(b=flank_size, genome=genome_fasta)\n",
    "\n",
    "# # Save the flanking regions to a new BED file\n",
    "tss_with_flanks.saveas('output/skeleton/tss_with_flanks.bed')"
   ]
  },
  {
   "cell_type": "code",
   "execution_count": 5,
   "metadata": {},
   "outputs": [],
   "source": [
    "# !bedtools getfasta -bed test.bed  -fi  ~/.local/share/genomes/hg38/hg38.fa "
   ]
  },
  {
   "cell_type": "code",
   "execution_count": 13,
   "metadata": {},
   "outputs": [],
   "source": [
    "# !ls /home/jnourisa/miniconda3/envs/gimme/lib/python3.10/site-packages/data/motif_databases/"
   ]
  },
  {
   "cell_type": "code",
   "execution_count": 87,
   "metadata": {},
   "outputs": [],
   "source": [
    "# !gimme scan output/skeleton/tss_with_flanks.bed -g hg38 -f 0.01 -N 10 -p /home/jnourisa/miniconda3/envs/gimme/lib/python3.10/site-packages/data/motif_databases/CIS-BP.pfm -t > output/skeleton/result.scan.txt\n"
   ]
  },
  {
   "cell_type": "code",
   "execution_count": 8,
   "metadata": {},
   "outputs": [],
   "source": [
    "df_2 = pd.read_csv('/home/jnourisa/miniconda3/envs/gimme/lib/python3.10/site-packages/data/motif_databases/HOMER.motif2factors.txt',  comment='#', sep='\\t')"
   ]
  },
  {
   "cell_type": "code",
   "execution_count": 10,
   "metadata": {},
   "outputs": [
    {
     "data": {
      "text/plain": [
       "array([False, False, False,  True, False, False, False, False, False,\n",
       "        True,  True,  True,  True,  True,  True,  True,  True,  True,\n",
       "        True,  True, False, False,  True,  True,  True, False,  True,\n",
       "        True,  True,  True, False,  True,  True,  True, False,  True,\n",
       "       False, False, False, False,  True, False,  True,  True,  True,\n",
       "       False, False, False, False,  True,  True, False,  True,  True,\n",
       "        True,  True,  True,  True, False,  True,  True, False, False,\n",
       "       False, False,  True,  True,  True,  True,  True,  True,  True,\n",
       "       False, False,  True,  True, False,  True, False,  True,  True,\n",
       "        True, False,  True,  True,  True,  True,  True,  True,  True,\n",
       "        True, False,  True,  True, False,  True,  True, False, False,\n",
       "       False, False,  True, False,  True, False, False, False,  True,\n",
       "        True,  True,  True,  True,  True,  True, False,  True,  True,\n",
       "        True,  True,  True,  True,  True,  True,  True,  True,  True,\n",
       "        True,  True,  True,  True,  True, False, False,  True,  True,\n",
       "        True,  True, False,  True, False, False, False,  True,  True,\n",
       "       False, False,  True,  True,  True,  True,  True, False,  True,\n",
       "        True,  True, False, False,  True, False,  True,  True,  True,\n",
       "       False, False, False,  True,  True, False,  True,  True,  True,\n",
       "       False, False, False, False, False, False,  True,  True,  True,\n",
       "        True,  True,  True, False, False,  True, False,  True, False,\n",
       "       False,  True,  True,  True,  True,  True,  True,  True,  True,\n",
       "        True,  True, False, False, False, False, False,  True,  True,\n",
       "        True,  True,  True,  True,  True, False,  True,  True,  True,\n",
       "        True,  True,  True,  True,  True, False,  True,  True,  True,\n",
       "        True,  True, False, False,  True, False, False,  True,  True,\n",
       "        True, False, False,  True,  True,  True,  True,  True,  True,\n",
       "        True,  True,  True, False,  True,  True,  True, False, False,\n",
       "       False,  True,  True, False, False, False, False, False, False,\n",
       "       False,  True,  True, False,  True, False,  True, False,  True,\n",
       "       False,  True,  True,  True,  True,  True,  True,  True,  True,\n",
       "        True,  True,  True,  True,  True,  True, False,  True, False,\n",
       "        True, False,  True, False, False,  True,  True,  True, False,\n",
       "        True,  True, False,  True, False, False,  True,  True,  True,\n",
       "       False, False, False, False, False,  True, False,  True, False,\n",
       "       False,  True, False, False, False,  True,  True, False,  True,\n",
       "        True, False, False,  True,  True,  True,  True,  True,  True,\n",
       "       False, False, False,  True,  True,  True,  True,  True,  True,\n",
       "        True,  True, False, False, False,  True,  True,  True,  True,\n",
       "       False, False,  True, False,  True,  True,  True,  True,  True,\n",
       "       False, False,  True, False,  True,  True,  True,  True,  True,\n",
       "        True,  True,  True,  True, False,  True,  True,  True,  True,\n",
       "        True,  True, False,  True,  True,  True, False, False,  True,\n",
       "        True, False,  True, False, False,  True,  True, False,  True,\n",
       "       False, False, False, False, False,  True,  True,  True,  True,\n",
       "       False, False,  True,  True,  True,  True, False,  True, False,\n",
       "        True, False, False,  True, False, False, False,  True, False,\n",
       "       False, False, False, False, False, False, False, False, False,\n",
       "       False,  True,  True, False, False])"
      ]
     },
     "execution_count": 10,
     "metadata": {},
     "output_type": "execute_result"
    }
   ],
   "source": [
    "# df.columns.isin(df_2.Motif)"
   ]
  },
  {
   "cell_type": "code",
   "execution_count": 4,
   "metadata": {},
   "outputs": [
    {
     "data": {
      "text/plain": [
       "Index(['Unnamed: 0', 'ATGACTCATC_AP', 'SCCTSAGGSCAW_AP', 'ATGCCCTGAGGC_AP',\n",
       "       'NAHCAGCTGD_Ap4(bHLH)/AML',\n",
       "       'AGTAAACAAAAAAGAACANA_FOXA1:AR(Forkhead,NR)/LNCAP',\n",
       "       'AGAACAGNCTGTTCTT_ARE(NR)/LNCAP', 'CCAGGAACAG_AR',\n",
       "       'TBGCACGCAA_Arnt:Ahr(bHLH)/MCF7',\n",
       "       'NNVVCAGCTGBN_Ascl1(bHLH)/NeuralTubes',\n",
       "       ...\n",
       "       'GAGSCCGAGC_ZNF519(Zf)/HEK293', 'AGAAATGACTTCCCT_ZNF528(Zf)/HEK293',\n",
       "       'TTAACCCTTTVNKKN_ZNF652/HepG2', 'GARTGGTCATCGCCC_ZNF669(Zf)/HEK293',\n",
       "       'ARGAGGMCAAAATGW_ZNF675(Zf)/HEK293', 'GTGGGCCCCA_ZNF692(Zf)/HEK293',\n",
       "       'AGGCCTAG_ZNF711(Zf)/SHSY5Y', 'RHHCAGAGAGGB_ZNF768(Zf)/Rajj',\n",
       "       'CTGCCWVCTTTTRTA_ZNF7(Zf)/HepG2',\n",
       "       'SMCAGTCWGAKGGAGGAGGC_ZSCAN22(Zf)/HEK293'],\n",
       "      dtype='object', length=437)"
      ]
     },
     "execution_count": 4,
     "metadata": {},
     "output_type": "execute_result"
    }
   ],
   "source": [
    "df = pd.read_csv('output/skeleton/result.scan.txt', comment='#', sep='\\t')\n",
    "df.columns.str.split('-', expand=True).get_level_values(0)"
   ]
  },
  {
   "cell_type": "code",
   "execution_count": 29,
   "metadata": {},
   "outputs": [],
   "source": [
    "flank_motif  = pd.read_csv('output/skeleton/result.scan.bed', sep=\"\\t\", comment='#', names=['chr','start','end','motif','whatever','strand'], header=None)"
   ]
  },
  {
   "cell_type": "code",
   "execution_count": 79,
   "metadata": {},
   "outputs": [],
   "source": [
    "# var = var.set_index(['chr' ,'start','end'])\n",
    "\n",
    "tss_with_flanks = pd.read_csv('output/skeleton/tss_with_flanks.bed', sep=\"\\t\", comment='#', names=['chr','start','end','gene_name'], header=None)\n",
    "# tss_with_flanks = tss_with_flanks.set_index(['chr' ,'start','end'])\n"
   ]
  },
  {
   "cell_type": "code",
   "execution_count": 75,
   "metadata": {},
   "outputs": [
    {
     "data": {
      "text/html": [
       "<div>\n",
       "<style scoped>\n",
       "    .dataframe tbody tr th:only-of-type {\n",
       "        vertical-align: middle;\n",
       "    }\n",
       "\n",
       "    .dataframe tbody tr th {\n",
       "        vertical-align: top;\n",
       "    }\n",
       "\n",
       "    .dataframe thead th {\n",
       "        text-align: right;\n",
       "    }\n",
       "</style>\n",
       "<table border=\"1\" class=\"dataframe\">\n",
       "  <thead>\n",
       "    <tr style=\"text-align: right;\">\n",
       "      <th></th>\n",
       "      <th></th>\n",
       "      <th></th>\n",
       "      <th>gene_name</th>\n",
       "    </tr>\n",
       "    <tr>\n",
       "      <th>chr</th>\n",
       "      <th>start</th>\n",
       "      <th>end</th>\n",
       "      <th></th>\n",
       "    </tr>\n",
       "  </thead>\n",
       "  <tbody>\n",
       "    <tr>\n",
       "      <th rowspan=\"11\" valign=\"top\">chr1</th>\n",
       "      <th>119931</th>\n",
       "      <th>121931</th>\n",
       "      <td>AL627309.1</td>\n",
       "    </tr>\n",
       "    <tr>\n",
       "      <th>148706</th>\n",
       "      <th>150706</th>\n",
       "      <td>AL627309.5</td>\n",
       "    </tr>\n",
       "    <tr>\n",
       "      <th>159445</th>\n",
       "      <th>161445</th>\n",
       "      <td>AL627309.4</td>\n",
       "    </tr>\n",
       "    <tr>\n",
       "      <th>777757</th>\n",
       "      <th>779757</th>\n",
       "      <td>LINC01409</td>\n",
       "    </tr>\n",
       "    <tr>\n",
       "      <th>826597</th>\n",
       "      <th>828597</th>\n",
       "      <td>LINC01128</td>\n",
       "    </tr>\n",
       "    <tr>\n",
       "      <th>...</th>\n",
       "      <th>...</th>\n",
       "      <td>...</td>\n",
       "    </tr>\n",
       "    <tr>\n",
       "      <th>5667254</th>\n",
       "      <th>5669254</th>\n",
       "      <td>AL365255.1</td>\n",
       "    </tr>\n",
       "    <tr>\n",
       "      <th>5991424</th>\n",
       "      <th>5993424</th>\n",
       "      <td>NPHP4</td>\n",
       "    </tr>\n",
       "    <tr>\n",
       "      <th>5991261</th>\n",
       "      <th>5993261</th>\n",
       "      <td>KCNAB2</td>\n",
       "    </tr>\n",
       "    <tr>\n",
       "      <th>6179320</th>\n",
       "      <th>6181320</th>\n",
       "      <td>CHD5</td>\n",
       "    </tr>\n",
       "    <tr>\n",
       "      <th>6198594</th>\n",
       "      <th>6200594</th>\n",
       "      <td>RPL22</td>\n",
       "    </tr>\n",
       "  </tbody>\n",
       "</table>\n",
       "<p>100 rows × 1 columns</p>\n",
       "</div>"
      ],
      "text/plain": [
       "                       gene_name\n",
       "chr  start   end                \n",
       "chr1 119931  121931   AL627309.1\n",
       "     148706  150706   AL627309.5\n",
       "     159445  161445   AL627309.4\n",
       "     777757  779757    LINC01409\n",
       "     826597  828597    LINC01128\n",
       "...                          ...\n",
       "     5667254 5669254  AL365255.1\n",
       "     5991424 5993424       NPHP4\n",
       "     5991261 5993261      KCNAB2\n",
       "     6179320 6181320        CHD5\n",
       "     6198594 6200594       RPL22\n",
       "\n",
       "[100 rows x 1 columns]"
      ]
     },
     "execution_count": 75,
     "metadata": {},
     "output_type": "execute_result"
    }
   ],
   "source": [
    "tss_with_flanks"
   ]
  },
  {
   "cell_type": "code",
   "execution_count": 80,
   "metadata": {},
   "outputs": [
    {
     "data": {
      "text/plain": [
       "2        False\n",
       "3        False\n",
       "4        False\n",
       "5        False\n",
       "8        False\n",
       "         ...  \n",
       "47784    False\n",
       "47785    False\n",
       "47786    False\n",
       "47787    False\n",
       "47788    False\n",
       "Name: start, Length: 33001, dtype: bool"
      ]
     },
     "execution_count": 80,
     "metadata": {},
     "output_type": "execute_result"
    }
   ],
   "source": [
    "flank_tf.start.isin(tss_with_flanks.start)"
   ]
  },
  {
   "cell_type": "code",
   "execution_count": 77,
   "metadata": {},
   "outputs": [],
   "source": [
    "# - make flank_tf out of flank_motif \n",
    "motif2tf = pd.read_csv('/home/jnourisa/miniconda3/envs/gimme/lib/python3.10/site-packages/data/motif_databases/CIS-BP.motif2factors.txt', sep='\\t') \n",
    "motif2tf.columns = ['motif','tf','_','__']\n",
    "\n",
    "flank_tf = flank_motif.merge(motif2tf, on='motif', how='left')\n",
    "flank_tf = flank_tf[~flank_tf.tf.isna()]\n",
    "# flank_tf = flank_tf.set_index(['chr' ,'start','end'])\n",
    "# var.merge(tss_with_flanks, left_index=True, right_index=True)"
   ]
  },
  {
   "cell_type": "code",
   "execution_count": 53,
   "metadata": {},
   "outputs": [],
   "source": [
    "tf_list = np.loadtxt('resources/prior/tf_all.csv', dtype=str)"
   ]
  },
  {
   "cell_type": "code",
   "execution_count": 25,
   "metadata": {},
   "outputs": [
    {
     "ename": "AttributeError",
     "evalue": "'MultiIndex' object has no attribute 'split'",
     "output_type": "error",
     "traceback": [
      "\u001b[0;31m---------------------------------------------------------------------------\u001b[0m",
      "\u001b[0;31mAttributeError\u001b[0m                            Traceback (most recent call last)",
      "Cell \u001b[0;32mIn[25], line 18\u001b[0m\n\u001b[1;32m      9\u001b[0m df \u001b[38;5;241m=\u001b[39m pd\u001b[38;5;241m.\u001b[39mread_csv(\n\u001b[1;32m     10\u001b[0m     \u001b[38;5;124m'\u001b[39m\u001b[38;5;124moutput/skeleton/result.scan.bed\u001b[39m\u001b[38;5;124m'\u001b[39m,\n\u001b[1;32m     11\u001b[0m     sep\u001b[38;5;241m=\u001b[39m\u001b[38;5;124m'\u001b[39m\u001b[38;5;130;01m\\t\u001b[39;00m\u001b[38;5;124m'\u001b[39m,\n\u001b[0;32m   (...)\u001b[0m\n\u001b[1;32m     14\u001b[0m     names\u001b[38;5;241m=\u001b[39mcolumn_names \u001b[38;5;66;03m# Assigns names to columns\u001b[39;00m\n\u001b[1;32m     15\u001b[0m )\n\u001b[1;32m     17\u001b[0m \u001b[38;5;66;03m# Display the DataFrame\u001b[39;00m\n\u001b[0;32m---> 18\u001b[0m \u001b[38;5;28mprint\u001b[39m(\u001b[43mdf\u001b[49m\u001b[38;5;241;43m.\u001b[39;49m\u001b[43mindex\u001b[49m\u001b[38;5;241;43m.\u001b[39;49m\u001b[43msplit\u001b[49m(\u001b[38;5;124m'\u001b[39m\u001b[38;5;124m \u001b[39m\u001b[38;5;124m'\u001b[39m))\n",
      "\u001b[0;31mAttributeError\u001b[0m: 'MultiIndex' object has no attribute 'split'"
     ]
    }
   ],
   "source": [
    "import pandas as pd\n",
    "\n",
    "column_names = ['chrom', 'start', 'end', 'name', 'score', 'strand']\n",
    "\n",
    "# Read the BED file with appropriate settings\n",
    "df = pd.read_csv(\n",
    "    'output/skeleton/result.scan.bed',\n",
    "    sep='\\t',\n",
    "    comment='#',      # Skips comment lines starting with '#'\n",
    "    header=None,      # Indicates there is no header in the file\n",
    "    names=column_names # Assigns names to columns\n",
    ")\n",
    "\n",
    "df"
   ]
  }
 ],
 "metadata": {
  "kernelspec": {
   "display_name": "Python 3",
   "language": "python",
   "name": "python3"
  },
  "language_info": {
   "codemirror_mode": {
    "name": "ipython",
    "version": 3
   },
   "file_extension": ".py",
   "mimetype": "text/x-python",
   "name": "python",
   "nbconvert_exporter": "python",
   "pygments_lexer": "ipython3",
   "version": "3.10.15"
  }
 },
 "nbformat": 4,
 "nbformat_minor": 2
}
