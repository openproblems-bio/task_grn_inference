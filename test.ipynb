{
 "cells": [
  {
   "cell_type": "code",
   "execution_count": 1,
   "metadata": {},
   "outputs": [],
   "source": [
    "# - get the gene locations as bed file\n",
    "import anndata as ad\n",
    "\n",
    "rna = ad.read_h5ad('resources/grn-benchmark/multiomics_rna.h5ad')\n",
    "\n",
    "var = rna.var.reset_index()\n",
    "var = var.iloc[:1000, :]\n",
    "var = var[var.interval!='NA']\n",
    "var[['chr','start','end']] = var.interval.str.split(':|-', expand=True)\n",
    "var = var[~var.chr.isin(['GL000009.2', 'GL000194.1', 'GL000195.1', 'GL000218.1', 'GL000219.1', 'KI270711.1',\n",
    "       'KI270721.1', 'KI270734.1'])]\n",
    "\n",
    "var[['chr','start','start', 'location']].to_csv('output/skeleton/gene_locations.bed', index=False, header=False, sep='\\t')"
   ]
  },
  {
   "cell_type": "code",
   "execution_count": 3,
   "metadata": {},
   "outputs": [
    {
     "data": {
      "text/plain": [
       "<BedTool(output/skeleton/tss_with_flanks.bed)>"
      ]
     },
     "execution_count": 3,
     "metadata": {},
     "output_type": "execute_result"
    }
   ],
   "source": [
    "# - get tss flank \n",
    "import pybedtools\n",
    "import genomepy\n",
    "import os \n",
    "\n",
    "# Path to the genome FASTA file\n",
    "genome_fasta = os.path.expanduser('~/.local/share/genomes/hg38/hg38.fa')\n",
    "\n",
    "# Example TSS BED file\n",
    "tss_bed_file = 'output/skeleton/gene_locations.bed'\n",
    "\n",
    "# Load the TSS BED file\n",
    "tss_bed = pybedtools.BedTool(tss_bed_file)\n",
    "\n",
    "# Set the flanking size (e.g., 1000 bp upstream and downstream)\n",
    "flank_size = 1000\n",
    "\n",
    "# Get the flanking regions\n",
    "tss_with_flanks = tss_bed.slop(b=flank_size, genome=genome_fasta)\n",
    "\n",
    "# # Save the flanking regions to a new BED file\n",
    "tss_with_flanks.saveas('output/skeleton/tss_with_flanks.bed')"
   ]
  },
  {
   "cell_type": "code",
   "execution_count": 18,
   "metadata": {},
   "outputs": [
    {
     "name": "stdout",
     "output_type": "stream",
     "text": [
      "It looks as though you have less than 3 columns at line 1 in file test.bed.  Are you sure your files are tab-delimited?\n"
     ]
    }
   ],
   "source": [
    "# !bedtools getfasta -bed test.bed  -fi  ~/.local/share/genomes/hg38/hg38.fa "
   ]
  },
  {
   "cell_type": "code",
   "execution_count": 5,
   "metadata": {},
   "outputs": [
    {
     "name": "stdout",
     "output_type": "stream",
     "text": [
      "Scanning: 100%|█████████████████████| 1000/1000 [00:39<00:00, 25.04 sequences/s]\n"
     ]
    }
   ],
   "source": [
    "!gimme scan output/skeleton/tss_with_flanks.bed -g hg38  > result.scan.bed"
   ]
  }
 ],
 "metadata": {
  "kernelspec": {
   "display_name": "Python 3",
   "language": "python",
   "name": "python3"
  },
  "language_info": {
   "codemirror_mode": {
    "name": "ipython",
    "version": 3
   },
   "file_extension": ".py",
   "mimetype": "text/x-python",
   "name": "python",
   "nbconvert_exporter": "python",
   "pygments_lexer": "ipython3",
   "version": "3.10.15"
  }
 },
 "nbformat": 4,
 "nbformat_minor": 2
}
